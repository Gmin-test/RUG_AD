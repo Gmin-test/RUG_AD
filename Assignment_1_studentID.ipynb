{
 "cells": [
  {
   "cell_type": "markdown",
   "metadata": {
    "id": "rbgjVp6BXGCT"
   },
   "source": [
    "\n",
    "# **Assignment 1**\n",
    "\n",
    "\n",
    "## Task 1. Correlation\n",
    "We will use the data example from the textbook \"Statistical Analysis with The General Linear Model\" by Miller and Haden (2013), Chapter 11.\n",
    "\n",
    "As in Miller and Haden, we have five columns:\n",
    "\n",
    "-Participant (Participant),\n",
    "\n",
    "-Reading Ability (Abil),\n",
    "\n",
    "-Intelligence (IQ),\n",
    "\n",
    "-Number of minutes spent reading at home per week (Home),\n",
    "\n",
    "-Number of minutes spent watching TV per week (TV).\n",
    "\n",
    "\n",
    "For the task we will focus on the relationship between Reading Ability and IQ, but for further practice you can look at other relationships on your own."
   ]
  },
  {
   "cell_type": "markdown",
   "metadata": {
    "id": "Z4cXzKORYFaD"
   },
   "source": [
    "**Question 1**:\n",
    "\n",
    "a. Check whether the data is interval, ratio, or ordinal.\n",
    "\n",
    "b. Check whether there is a data point for each participant on both variables.\n",
    "\n",
    "c. Check whether the data is normally distributed in both variables.\n",
    "\n",
    "d. Create a scatter plot with Reading Ability being the x-axis and IQ, being the y-axis.\n",
    "\n",
    "e. Draw a correlation line on the scatter plot.\n",
    "\n",
    "\n",
    "**Instructions:**\n",
    "\n",
    "1. Load the necessary libraries and explain why you need them (\"#used for ...\").\n",
    "\n",
    "2. Read the MillerHadenData.csv file into a DataFrame and name it \"df_mh\"."
   ]
  },
  {
   "cell_type": "code",
   "execution_count": 1,
   "metadata": {
    "id": "140M8Z4qYn_G"
   },
   "outputs": [],
   "source": [
    "import pandas as pd # used for data wrangling\n",
    "import seaborn as sns # used for visualization\n",
    "import matplotlib  # used for making plots\n",
    "from matplotlib import pyplot as plt # used for scatter plot and Correlation lines\n",
    "import pingouin as pg # used for calcutating Pearson correlation\n",
    "\n",
    "df_mh = pd.read_csv('data for A1/MillerHadenData.csv')\n",
    "\n"
   ]
  },
  {
   "cell_type": "code",
   "execution_count": 5,
   "metadata": {
    "id": "rwqidw5q2D1n"
   },
   "outputs": [
    {
     "name": "stdout",
     "output_type": "stream",
     "text": [
      "   Participant  Abil   IQ  Home   TV\n",
      "0            1    61  107   144  487\n",
      "1            2    56  109   123  608\n",
      "2            3    45   81   108  640\n",
      "3            4    66  100   155  493\n",
      "4            5    49   92   103  636\n",
      "Participant    int64\n",
      "Abil           int64\n",
      "IQ             int64\n",
      "Home           int64\n",
      "TV             int64\n",
      "dtype: object\n"
     ]
    }
   ],
   "source": [
    "# Q1a (code):\n",
    "# Display first few rows of the dataframe\n",
    "print(df_mh.head())\n",
    "\n",
    "# Check data types and information\n",
    "print(df_mh.dtypes)\n"
   ]
  },
  {
   "cell_type": "markdown",
   "metadata": {},
   "source": [
    "Participant is nominal.\n",
    "Abil, IQ is interval, since a score of zero does not represent the complete absence of ability or intelligence.\n",
    "Home and TV is ratio, since zero minutes means means no time spent reading or watching."
   ]
  },
  {
   "cell_type": "code",
   "execution_count": 9,
   "metadata": {
    "id": "Edd9mYgi2Jar"
   },
   "outputs": [
    {
     "name": "stdout",
     "output_type": "stream",
     "text": [
      "Participant    0\n",
      "Abil           0\n",
      "IQ             0\n",
      "Home           0\n",
      "TV             0\n",
      "dtype: int64\n",
      "Abil    0\n",
      "IQ      0\n",
      "dtype: int64\n"
     ]
    }
   ],
   "source": [
    "# Q1b (code):\n",
    "# Check for missing values\n",
    "print(df_mh.isnull().sum())\n",
    "# Check whether there is a data point for each participant on both variables\n",
    "print(df_mh[['Abil','IQ']].isnull().sum())\n",
    "# The result indicates there is no missing values."
   ]
  },
  {
   "cell_type": "code",
   "execution_count": 21,
   "metadata": {
    "id": "3ALe0fjr2K5h"
   },
   "outputs": [
    {
     "name": "stdout",
     "output_type": "stream",
     "text": [
      "Abil : normal , 0.2354906052350998\n",
      "IQ : normal , 0.49081143736839294\n",
      "Home : normal , 0.5731353759765625\n",
      "TV : normal , 0.32464978098869324\n"
     ]
    },
    {
     "data": {
      "text/plain": [
       "array([[<Axes: title={'center': 'Abil'}>, <Axes: title={'center': 'IQ'}>],\n",
       "       [<Axes: title={'center': 'Home'}>, <Axes: title={'center': 'TV'}>]],\n",
       "      dtype=object)"
      ]
     },
     "execution_count": 21,
     "metadata": {},
     "output_type": "execute_result"
    },
    {
     "data": {
      "image/png": "[encoded data removed]",
      "text/plain": [
       "<Figure size 640x480 with 4 Axes>"
      ]
     },
     "metadata": {},
     "output_type": "display_data"
    }
   ],
   "source": [
    "# Q1c (code):\n",
    "# Check data distribution\n",
    "\n",
    "import scipy.stats as stats\n",
    "\n",
    "def normal_check(data, variable_name):\n",
    "    score_shapiro_data, p_val_shapiro_data = stats.shapiro(data) # run the Shapiro-Wilk test to test for normal distribution \n",
    "    if p_val_shapiro_data>0.05:\n",
    "        print(variable_name, ': normal', ',',p_val_shapiro_data) # show the result with the score of t test \n",
    "    else:\n",
    "        print(variable_name,': not normal')\n",
    "    \n",
    "normal_check(df_mh['Abil'],'Abil')\n",
    "normal_check(df_mh['IQ'],'IQ')\n",
    "normal_check(df_mh['Home'],'Home')\n",
    "normal_check(df_mh['TV'],'TV')\n",
    "\n",
    "# show the histogram\n",
    "df_mh.hist(['Abil','IQ','Home','TV']) "
   ]
  },
  {
   "cell_type": "code",
   "execution_count": 26,
   "metadata": {
    "id": "xaQ300fY2MPe"
   },
   "outputs": [
    {
     "data": {
      "image/png": "[encoded data removed]",
      "text/plain": [
       "<Figure size 640x480 with 1 Axes>"
      ]
     },
     "metadata": {},
     "output_type": "display_data"
    }
   ],
   "source": [
    "# Q1d (code):\n",
    "# Scatter plot\n",
    "#Save Reading Ability and IQ n separate variables\n",
    "Abil = df_mh['Abil']\n",
    "IQ = df_mh['IQ']\n",
    "# draw the plot\n",
    "plt.scatter(Abil, IQ)\n",
    "# specify label of axis\n",
    "plt.xlabel(\"Reading Ability\")  \n",
    "plt.ylabel(\"IQ\") \n",
    "plt.show()"
   ]
  },
  {
   "cell_type": "code",
   "execution_count": 28,
   "metadata": {
    "id": "Zpkwqc382N06"
   },
   "outputs": [
    {
     "data": {
      "image/png": "[encoded data removed]",
      "text/plain": [
       "<Figure size 640x480 with 1 Axes>"
      ]
     },
     "metadata": {},
     "output_type": "display_data"
    }
   ],
   "source": [
    "# Q1e (code):\n",
    "# Correlation line\n",
    "plot_corr_sns = sns.regplot(x=\"Abil\", y=\"IQ\", color=\"r\", data=df_mh)\n",
    "plt.show() "
   ]
  },
  {
   "cell_type": "markdown",
   "metadata": {
    "id": "tKtW2diqZq1S"
   },
   "source": [
    "**Question 2**:\n",
    "\n",
    "a. Which correlation coefficient test can we use, Pearson or Spearman? Briefly explian why based on the results of Question 1.\n",
    "\n",
    "b. Conduct a correlation coefficient test.\n",
    "\n",
    "c. Interpret the result (direction and strength of the association between the two varibles)"
   ]
  },
  {
   "cell_type": "markdown",
   "metadata": {
    "id": "t5GRVxHwaKIS"
   },
   "source": [
    "# Q2a (answer with words):\n",
    "We should use the Pearson correlation coefficient, since the data is normally distributed in both variables."
   ]
  },
  {
   "cell_type": "code",
   "execution_count": 30,
   "metadata": {
    "id": "LTSp6xMFaKgf"
   },
   "outputs": [
    {
     "name": "stdout",
     "output_type": "stream",
     "text": [
      "          n        r         CI95%     p-val   BF10     power\n",
      "pearson  25  0.45117  [0.07, 0.72]  0.023593  2.804  0.640299\n"
     ]
    }
   ],
   "source": [
    "# Q2b (code):\n",
    "import pingouin as pg\n",
    "corr_pearson = pg.corr(Abil, IQ, method ='pearson')\n",
    "print(corr_pearson)"
   ]
  },
  {
   "cell_type": "markdown",
   "metadata": {
    "id": "m_3aCSG7ylFJ"
   },
   "source": [
    "# Q2c (answer with words):\n",
    "The result indicates a statistically significant positive correlation between the two variables.\n",
    "- The sample size is 25\n",
    "- the correlation coefficient is 0.45117 and is positive\n",
    "- the p-value is 0.023593, indicating that the correlation is statistically significant\n",
    "- BF10 > 1 indicates evidence for the alternative hypothesis\n",
    "- Statistical power is 0.640299, suggesting a moderate level of power to detect the observed correlation"
   ]
  },
  {
   "cell_type": "markdown",
   "metadata": {
    "id": "mogdaz8P27oU"
   },
   "source": [
    "## Task 2. Chi-square Test\n",
    "We will continue to use the data example from Task 1.\n",
    "\n",
    "We want to explore whether there are significant differences in the amount of time spent reading at home per week (Home) among people with different reading abilities (Reading Ability). Therefore, we will divide the reading ability of all participants into two groups. The first group is those with low reading ability (Reading Ability at or below the rounded average), and the second group is those with high reading ability (Reading Ability above the rounded average). We will store this grouping in a new column named \"Rank_Abil\".\n",
    "\n",
    "\n",
    "Similarly, the reading time is divided into two different scenarios: the first scenario is infrequent reading (Home at or below the rounded average), and the other is frequent reading (Reading Ability above the rounded average). We will store this grouping in a new column named \"Rank_Home\".\n",
    "\n",
    "\n",
    "Then, construct a Contingency Matrix and perform a Chi-square test.\n",
    "\n",
    "**Question 3**:\n",
    "\n",
    "a. Please state the null hypothesis (H0) and alternative hypothesis (H1) for this Chi-square test.\n",
    "\n",
    "b. Based on the task description, add new columns “Rank_Abil” and \"Rank_Home\" to the dataframe df_mh.\n",
    "\n",
    "c. Construct a Contingency Matrix.\n",
    "\n",
    "d. Perform a Chi-square test.\n",
    "\n",
    "e. Interpret the results of the Chi-square test (answer in text)."
   ]
  },
  {
   "cell_type": "markdown",
   "metadata": {
    "id": "tIKHfEwG-Pte"
   },
   "source": [
    "# Q3a (answer in words):\n",
    "H0: There is no difference in the amount of time spent reading at home per week (Home) among people with different reading abilities (Reading Ability).\n",
    "H1: There are significant differences in the amount of time spent reading at home per week (Home) among people with different reading abilities (Reading Ability)."
   ]
  },
  {
   "cell_type": "code",
   "execution_count": 38,
   "metadata": {
    "id": "nlO-hmq2-V2Z"
   },
   "outputs": [
    {
     "name": "stdout",
     "output_type": "stream",
     "text": [
      "avg Reading Ability:  55.12 \n",
      "avg Home:  124.0\n",
      "    Participant  Abil   IQ  Home   TV Rank_Abil   Rank_Home\n",
      "0             1    61  107   144  487      high    frequent\n",
      "1             2    56  109   123  608      high  infrequent\n",
      "2             3    45   81   108  640       low  infrequent\n",
      "3             4    66  100   155  493      high    frequent\n",
      "4             5    49   92   103  636       low  infrequent\n",
      "5             6    62  105   161  407      high    frequent\n",
      "6             7    61   92   138  463      high    frequent\n",
      "7             8    55  101   119  717       low  infrequent\n",
      "8             9    62  118   155  643      high    frequent\n",
      "9            10    61   99   121  674      high  infrequent\n",
      "10           11    51  104    93  675       low  infrequent\n",
      "11           12    48  100   127  595       low    frequent\n",
      "12           13    50   95    97  673       low  infrequent\n",
      "13           14    50   82   140  523       low    frequent\n",
      "14           15    67  114   151  665      high    frequent\n",
      "15           16    51   95   112  663       low  infrequent\n",
      "16           17    55   94   102  684       low  infrequent\n",
      "17           18    54  103   142  505       low    frequent\n",
      "18           19    57   96   127  541      high    frequent\n",
      "19           20    54  104   102  678       low  infrequent\n",
      "20           21    52   98   124  564       low  infrequent\n",
      "21           22    48  117    87  787       low  infrequent\n",
      "22           23    61  100   141  582      high    frequent\n",
      "23           24    54  101   117  647       low  infrequent\n",
      "24           25    48   94   111  448       low  infrequent\n"
     ]
    }
   ],
   "source": [
    "# Q3b (code):\n",
    "# Import necessary libraries\n",
    "import pandas as pd  ##used for manipulating data\n",
    "from scipy.stats import chi2_contingency ##used for creating Contingency Matrix\n",
    "import numpy as np # assign the group to each data\n",
    "\n",
    "# Define the rounded average for Reading Ability and Home\n",
    "avg_Abil = df_mh['Abil'].mean().round(2)\n",
    "avg_Home = df_mh['Home'].mean().round(2)\n",
    "print('avg Reading Ability: ',avg_Abil,'\\navg Home: ',avg_Home)\n",
    "# Create the Rank_Abil column\n",
    "df_mh['Rank_Abil'] = np.where(df_mh['Abil'] > avg_Abil, 'high', 'low')\n",
    "# Create the Rank_Home column\n",
    "df_mh['Rank_Home'] = np.where(df_mh['Home'] > avg_Home, 'frequent', 'infrequent')\n",
    "print(df_mh)"
   ]
  },
  {
   "cell_type": "markdown",
   "metadata": {},
   "source": [
    "This is the Contingency Matrix I want to build:\n",
    "|  Home/Abil               | high | low | Total |\n",
    "|------------------|-----------------|-----------------|----------------------|\n",
    "| frequent  |  |              |               |\n",
    "| infrequent   | |           |              |\n",
    "| Total  | |        |   |"
   ]
  },
  {
   "cell_type": "code",
   "execution_count": 46,
   "metadata": {
    "id": "jjtp4cm4-Y36"
   },
   "outputs": [
    {
     "name": "stdout",
     "output_type": "stream",
     "text": [
      "The values:\n",
      "[8, 3, 2, 12]\n",
      "The contingency matrix\n",
      "[[ 8  3]\n",
      " [ 2 12]]\n"
     ]
    }
   ],
   "source": [
    "# Q3c (code):\n",
    "# Construct Contingency Matrix\n",
    "def CountforContigencyMatrix(df,Rank_Abil, Rank_Home):\n",
    "    return ((df['Rank_Abil'] == Rank_Abil) & (df['Rank_Home'] == Rank_Home)).sum()\n",
    "    \n",
    "high_frequent = CountforContigencyMatrix(df_mh, 'high','frequent')\n",
    "high_infrequent = CountforContigencyMatrix(df_mh, 'high','infrequent')\n",
    "low_frequent = CountforContigencyMatrix(df_mh, 'low','frequent')\n",
    "low_infrequent = CountforContigencyMatrix(df_mh, 'low','infrequent')\n",
    "data4contingency = [high_frequent, low_frequent, high_infrequent,low_infrequent]\n",
    "print('The values:')\n",
    "print(data4contingency)\n",
    "\n",
    "# transform the list in a contingency matrix\n",
    "data_cm = np.array(data4contingency).reshape(2,-1)\n",
    "print('The contingency matrix')\n",
    "print(data_cm)"
   ]
  },
  {
   "cell_type": "code",
   "execution_count": 47,
   "metadata": {
    "id": "gyDS8hq2-bmx"
   },
   "outputs": [
    {
     "name": "stdout",
     "output_type": "stream",
     "text": [
      "6.500270562770561 0.010785807794066234\n",
      "These are the expected frequencies\n",
      "[[4.4 6.6]\n",
      " [5.6 8.4]]\n",
      "The observed differences are statiscally significant - H0 is rejected\n"
     ]
    }
   ],
   "source": [
    "# Q3d (code):\n",
    "# Perform the Chi-square test\n",
    "chi2, p_value, degree_of_freedom, expected_frequencies = chi2_contingency(data_cm)\n",
    "print(chi2, p_value)\n",
    "print('These are the expected frequencies')\n",
    "print(expected_frequencies)\n",
    "\n",
    "if p_value < 0.05:\n",
    "    print(\"The observed differences are statiscally significant - H0 is rejected\")\n",
    "else:\n",
    "    print(\"The observed differences are not statiscally significant - H1 is rejected\")"
   ]
  },
  {
   "cell_type": "markdown",
   "metadata": {
    "id": "fj0gW0pS-dN5"
   },
   "source": [
    "# Q3e (answer in words):\n",
    "The observed differences are statiscally significant - H0 is rejected, so there are significant differences in the amount of time spent reading at home per week (Home) among people with different reading abilities (Reading Ability)."
   ]
  },
  {
   "cell_type": "markdown",
   "metadata": {
    "id": "FgYRxqqpaUIk"
   },
   "source": [
    "## Task 3. Two-sample t-test\n",
    "As we discussed on Week 3, Two-sample designs are very useful when we want to know whether there is a difference between groups on a particular variable.\n",
    "\n",
    "In this assignment, you will be guided to replicate the Experiment 4 (p. 887-888) from the paper below, focusing on understanding the data through descriptive statistics, visualizing distributions, testing assumptions (normality and variance homogeneity), and finally performing the independent t-test.\n",
    "\n",
    "Schroeder, J. and Epley, N. (2015). The sound of intellect: Speech reveals a thoughtful mind, increasing a job candidate's appeal. Psychological Science, 26, 277--891.\n",
    "\n",
    "\n",
    "As we explained during Week 3 lecture, there are different types of two-sample designs depending on whether or not the two groups are independent (e.g., different participants in different conditions) or not (e.g., same participants in different conditions). In this course we focus on independent samples, which typically means that the observations in the two groups are unrelated - usually meaning different people. But in real practice you will need to go through similar procedures to determine which is the proper statistical test to use.\n",
    "\n",
    "\n",
    "\n",
    "\n",
    "### Background of data: Speech as indicator of intellect\n",
    "To recap on Experiment 4, 39 professional recruiters from Fortune 500 companies evaluated job pitches of M.B.A. candidates (Masters in Business Administration) from the University of Chicago Booth School of Business. The methods and results appear on pages 887--889 of the article if you want to look at them specifically for more details."
   ]
  },
  {
   "cell_type": "markdown",
   "metadata": {
    "id": "vIc57Glgn5Bb"
   },
   "source": [
    "###Step 1: Analyze the demographics of evaluators from the provided dataset\n",
    "\n",
    "**Instructions:**\n",
    "\n",
    "1. Load the necessary libraries (pandas, scipy, numpy, matplotlib.pyplot, seaborn) and explain why you need them (\"#used for ...\").\n",
    "\n",
    "2. Read the evaluators.csv file into a DataFrame.\n",
    "\n",
    "3. Calculate the mean and standard deviation of the age of the evaluators, handling missing values appropriately.\n",
    "\n",
    "4. Count how many male and female evaluators were in the study.\n",
    "\n",
    "**Question 4:**\n",
    "\n",
    "a. What was the mean age of the evaluators?\n",
    "What was the standard deviation of the age of the evaluators?\n",
    "\n",
    "b. How many participants were female and how many participants were male?\n"
   ]
  },
  {
   "cell_type": "code",
   "execution_count": 5,
   "metadata": {
    "id": "RgnTye-yojyH"
   },
   "outputs": [
    {
     "data": {
      "text/html": [
       "<div>\n",
       "<style scoped>\n",
       "    .dataframe tbody tr th:only-of-type {\n",
       "        vertical-align: middle;\n",
       "    }\n",
       "\n",
       "    .dataframe tbody tr th {\n",
       "        vertical-align: top;\n",
       "    }\n",
       "\n",
       "    .dataframe thead th {\n",
       "        text-align: right;\n",
       "    }\n",
       "</style>\n",
       "<table border=\"1\" class=\"dataframe\">\n",
       "  <thead>\n",
       "    <tr style=\"text-align: right;\">\n",
       "      <th></th>\n",
       "      <th>eval_id</th>\n",
       "      <th>condition</th>\n",
       "      <th>age</th>\n",
       "      <th>sex</th>\n",
       "    </tr>\n",
       "  </thead>\n",
       "  <tbody>\n",
       "    <tr>\n",
       "      <th>0</th>\n",
       "      <td>1</td>\n",
       "      <td>listened</td>\n",
       "      <td>29.0</td>\n",
       "      <td>2.0</td>\n",
       "    </tr>\n",
       "    <tr>\n",
       "      <th>1</th>\n",
       "      <td>2</td>\n",
       "      <td>listened</td>\n",
       "      <td>27.0</td>\n",
       "      <td>2.0</td>\n",
       "    </tr>\n",
       "    <tr>\n",
       "      <th>2</th>\n",
       "      <td>3</td>\n",
       "      <td>listened</td>\n",
       "      <td>27.0</td>\n",
       "      <td>2.0</td>\n",
       "    </tr>\n",
       "    <tr>\n",
       "      <th>3</th>\n",
       "      <td>4</td>\n",
       "      <td>read</td>\n",
       "      <td>40.0</td>\n",
       "      <td>2.0</td>\n",
       "    </tr>\n",
       "    <tr>\n",
       "      <th>4</th>\n",
       "      <td>5</td>\n",
       "      <td>read</td>\n",
       "      <td>32.0</td>\n",
       "      <td>2.0</td>\n",
       "    </tr>\n",
       "  </tbody>\n",
       "</table>\n",
       "</div>"
      ],
      "text/plain": [
       "   eval_id condition   age  sex\n",
       "0        1  listened  29.0  2.0\n",
       "1        2  listened  27.0  2.0\n",
       "2        3  listened  27.0  2.0\n",
       "3        4      read  40.0  2.0\n",
       "4        5      read  32.0  2.0"
      ]
     },
     "execution_count": 5,
     "metadata": {},
     "output_type": "execute_result"
    }
   ],
   "source": [
    "import pandas as pd # used for manipulating data\n",
    "from scipy import stats # used for calculating tests\n",
    "\n",
    "\n",
    "# Load the data\n",
    "df_evaluators = pd.read_csv('data for A1/evaluators.csv')\n",
    "df_evaluators.head()\n"
   ]
  },
  {
   "cell_type": "code",
   "execution_count": 7,
   "metadata": {
    "id": "eDw0XnX3BRhe"
   },
   "outputs": [
    {
     "name": "stdout",
     "output_type": "stream",
     "text": [
      "mean: 30.852941176470587 ; standard deviation: 6.238358141327351\n"
     ]
    }
   ],
   "source": [
    "# Q4a (code):\n",
    "# Calculate mean and standard deviation for age\n",
    "mean_age = df_evaluators['age'].mean()\n",
    "standard_deviation_age = df_evaluators['age'].std()\n",
    "print('mean:',mean_age,'; standard deviation:', standard_deviation_age)\n"
   ]
  },
  {
   "cell_type": "code",
   "execution_count": 8,
   "metadata": {
    "id": "I0tU57R5ufRI"
   },
   "outputs": [
    {
     "name": "stdout",
     "output_type": "stream",
     "text": [
      "female:  30 ; male:  4\n"
     ]
    }
   ],
   "source": [
    "# Q4b (code)\n",
    "# Count male and female evaluators\n",
    "# In the 'sex' column: 1 represents males and 2 represents females\n",
    "female = (df_evaluators['sex'] == 2.0).sum()\n",
    "male = (df_evaluators['sex'] == 1.0).sum()\n",
    "print('female: ',female,'; male: ', male)"
   ]
  },
  {
   "cell_type": "markdown",
   "metadata": {
    "id": "KK-MdZfdpDI3"
   },
   "source": [
    "###Step 2: Calculate overall intellect ratings from evaluators and prepare a combined dataset for analysis\n",
    "\n",
    "We are now going to calculate an overall intellect rating given by each evaluator. To break that down a bit, we are going to calculate how intellectual the evaluators (the raters) thought candidates were overall, depending on whether the evaluators read or listened to the candidates' resume pitches. This is calculated by averaging the ratings of competent, thoughtful and intelligent for each evaluator held within ratings.csv.\n",
    "\n",
    "Note: We are not looking at ratings to individual candidates; we are looking at overall ratings for each evaluator. This is a bit confusing but makes sense if you stop to think about it a little. You can think about it in terms of \"do raters rate differently depending on whether they read or listen to a resume pitch\".\n",
    "We will then combine the overall intellect rating with the overall impression ratings and overall hire ratings for each evaluator, all ready found in ratings.csv. In the end we will have a new new dataframe named \"ratings2\" - which has the below structure:\n",
    "\n",
    "**eval_id** shows the evaluator ID. Each evaluator has a different ID. So all the 1's are the same evaluator.\n",
    "\n",
    "**Category** shows the scale that they were rating on - intellect, hire, impression\n",
    "\n",
    "**Rating** shows the overall rating given by that evaluator on a given scale.\n",
    "\n",
    "**condition** shows whether that evaluator listened to (e.g., evaluators 1, 2 and 3), or read (e.g., evaluator 4) the resume.\n",
    "\n",
    "\n",
    "**Instructions:**\n",
    "\n",
    "1. Load the ratings.csv file.\n",
    "\n",
    "2. Filter and calculate the mean intellect rating for each evaluator.\n",
    "\n",
    "3. Combine this with overall impression and hire ratings to create a new DataFrame named \"rating2\".\n",
    "\n",
    "4. Merge this DataFrame with the evaluator demographics.\n",
    "\n",
    "**Question 5**:\n",
    "\n",
    "Print the head of \"rating2\".\n"
   ]
  },
  {
   "cell_type": "code",
   "execution_count": 11,
   "metadata": {
    "id": "l85NzSC-pj57"
   },
   "outputs": [
    {
     "data": {
      "text/html": [
       "<div>\n",
       "<style scoped>\n",
       "    .dataframe tbody tr th:only-of-type {\n",
       "        vertical-align: middle;\n",
       "    }\n",
       "\n",
       "    .dataframe tbody tr th {\n",
       "        vertical-align: top;\n",
       "    }\n",
       "\n",
       "    .dataframe thead th {\n",
       "        text-align: right;\n",
       "    }\n",
       "</style>\n",
       "<table border=\"1\" class=\"dataframe\">\n",
       "  <thead>\n",
       "    <tr style=\"text-align: right;\">\n",
       "      <th></th>\n",
       "      <th>eval_id</th>\n",
       "      <th>Category</th>\n",
       "      <th>Rating</th>\n",
       "    </tr>\n",
       "  </thead>\n",
       "  <tbody>\n",
       "    <tr>\n",
       "      <th>0</th>\n",
       "      <td>1</td>\n",
       "      <td>competent</td>\n",
       "      <td>6.0</td>\n",
       "    </tr>\n",
       "    <tr>\n",
       "      <th>1</th>\n",
       "      <td>1</td>\n",
       "      <td>thoughtful</td>\n",
       "      <td>6.0</td>\n",
       "    </tr>\n",
       "    <tr>\n",
       "      <th>2</th>\n",
       "      <td>1</td>\n",
       "      <td>intelligent</td>\n",
       "      <td>6.0</td>\n",
       "    </tr>\n",
       "    <tr>\n",
       "      <th>3</th>\n",
       "      <td>1</td>\n",
       "      <td>impression</td>\n",
       "      <td>7.0</td>\n",
       "    </tr>\n",
       "    <tr>\n",
       "      <th>4</th>\n",
       "      <td>1</td>\n",
       "      <td>hire</td>\n",
       "      <td>6.0</td>\n",
       "    </tr>\n",
       "  </tbody>\n",
       "</table>\n",
       "</div>"
      ],
      "text/plain": [
       "   eval_id     Category  Rating\n",
       "0        1    competent     6.0\n",
       "1        1   thoughtful     6.0\n",
       "2        1  intelligent     6.0\n",
       "3        1   impression     7.0\n",
       "4        1         hire     6.0"
      ]
     },
     "execution_count": 11,
     "metadata": {},
     "output_type": "execute_result"
    }
   ],
   "source": [
    "# Load ratings data\n",
    "df_ratings = pd.read_csv('data for a1/ratings.csv')\n",
    "df_ratings.head()"
   ]
  },
  {
   "cell_type": "code",
   "execution_count": 13,
   "metadata": {
    "id": "5dxtVUSMBZwf"
   },
   "outputs": [
    {
     "name": "stdout",
     "output_type": "stream",
     "text": [
      "     eval_id    Rating    Category\n",
      "0          1  6.000000   intellect\n",
      "1          2  5.666667   intellect\n",
      "2          3  6.000000   intellect\n",
      "3          4  3.333333   intellect\n",
      "4          5  1.000000   intellect\n",
      "..       ...       ...         ...\n",
      "112       35  6.000000  impression\n",
      "113       36  7.666667  impression\n",
      "114       37  5.333333  impression\n",
      "115       38  8.333333  impression\n",
      "116       39  5.666667  impression\n",
      "\n",
      "[117 rows x 3 columns]\n"
     ]
    },
    {
     "data": {
      "text/html": [
       "<div>\n",
       "<style scoped>\n",
       "    .dataframe tbody tr th:only-of-type {\n",
       "        vertical-align: middle;\n",
       "    }\n",
       "\n",
       "    .dataframe tbody tr th {\n",
       "        vertical-align: top;\n",
       "    }\n",
       "\n",
       "    .dataframe thead th {\n",
       "        text-align: right;\n",
       "    }\n",
       "</style>\n",
       "<table border=\"1\" class=\"dataframe\">\n",
       "  <thead>\n",
       "    <tr style=\"text-align: right;\">\n",
       "      <th></th>\n",
       "      <th>eval_id</th>\n",
       "      <th>Category</th>\n",
       "      <th>Rating</th>\n",
       "      <th>condition</th>\n",
       "    </tr>\n",
       "  </thead>\n",
       "  <tbody>\n",
       "    <tr>\n",
       "      <th>1</th>\n",
       "      <td>1</td>\n",
       "      <td>hire</td>\n",
       "      <td>6.000000</td>\n",
       "      <td>listened</td>\n",
       "    </tr>\n",
       "    <tr>\n",
       "      <th>2</th>\n",
       "      <td>1</td>\n",
       "      <td>impression</td>\n",
       "      <td>7.000000</td>\n",
       "      <td>listened</td>\n",
       "    </tr>\n",
       "    <tr>\n",
       "      <th>0</th>\n",
       "      <td>1</td>\n",
       "      <td>intellect</td>\n",
       "      <td>6.000000</td>\n",
       "      <td>listened</td>\n",
       "    </tr>\n",
       "    <tr>\n",
       "      <th>4</th>\n",
       "      <td>2</td>\n",
       "      <td>hire</td>\n",
       "      <td>4.000000</td>\n",
       "      <td>listened</td>\n",
       "    </tr>\n",
       "    <tr>\n",
       "      <th>5</th>\n",
       "      <td>2</td>\n",
       "      <td>impression</td>\n",
       "      <td>4.666667</td>\n",
       "      <td>listened</td>\n",
       "    </tr>\n",
       "  </tbody>\n",
       "</table>\n",
       "</div>"
      ],
      "text/plain": [
       "   eval_id    Category    Rating condition\n",
       "1        1        hire  6.000000  listened\n",
       "2        1  impression  7.000000  listened\n",
       "0        1   intellect  6.000000  listened\n",
       "4        2        hire  4.000000  listened\n",
       "5        2  impression  4.666667  listened"
      ]
     },
     "execution_count": 13,
     "metadata": {},
     "output_type": "execute_result"
    }
   ],
   "source": [
    "# Q5 (code):\n",
    "# Filter the ratings DataFrame to include only 'thoughtful', 'competent', and 'intelligent' categories\n",
    "df_intellect = df_ratings[df_ratings['Category'].isin(['thoughtful' , 'competent' ,'intelligent'])]\n",
    "\n",
    "# Calculate the mean intellect rating for each evaluator\n",
    "# Group by 'eval_id' and calculate mean, then reset the index to convert groupby object back to DataFrame\n",
    "df_intellect = df_intellect[['eval_id','Rating']]\n",
    "df_intellect = df_intellect.groupby('eval_id')['Rating'].mean().reset_index()\n",
    "# Add a 'Category' column with the value 'intellect' for these rows\n",
    "df_intellect['Category'] ='intellect'\n",
    "\n",
    "# Create a DataFrame for 'impression' and 'hire' ratings\n",
    "df_impression = df_ratings[df_ratings['Category']=='impression']\n",
    "df_impression.groupby('eval_id')['Rating'].agg(['mean']).reset_index()\n",
    "\n",
    "df_hire = df_ratings[df_ratings['Category']=='hire']\n",
    "df_hire.groupby('eval_id')['Rating'].agg(['mean']).reset_index()\n",
    "\n",
    "# Combine the DataFrames to create 'ratings2'\n",
    "# Concatenate the 'intellect_mean' DataFrame with the 'other_ratings' DataFrame\n",
    "ratings2 = pd.concat([df_hire, df_impression ], ignore_index=True)\n",
    "ratings2 = pd.concat([df_intellect, ratings2 ], ignore_index=True)\n",
    "print(ratings2)\n",
    "# Join 'ratings2' with the 'df_evaluators' DataFrame to add the 'condition' column\n",
    "ratings2 = pd.merge(ratings2, df_evaluators[['eval_id','condition']], on='eval_id')\n",
    "\n",
    "# Select only the necessary columns as per the structure required\n",
    "ratings2 = ratings2[['eval_id','Category','Rating','condition']]\n",
    "\n",
    "# Arrange by 'eval_id' and 'Category'\n",
    "ratings2 = ratings2.sort_values(by=['eval_id', 'Category'])\n",
    "\n",
    "# Display the first few rows of the final 'ratings2' DataFrame to verify\n",
    "ratings2.head()"
   ]
  },
  {
   "cell_type": "markdown",
   "metadata": {
    "id": "fOmtKCzEpoOa"
   },
   "source": [
    "###Step 3: Perform descriptive and inferential statistical analyses, including testing assumptions and conducting independent t-tests.\n",
    "\n",
    "We are going to run the t-tests for Intellect, Hire and Impression; each time comparing evaluators overall ratings for the listened group versus overall ratings for the read group to see if there was a significant difference between the two conditions: i.e., did the evaluators who listened to pitches give a significant higher or lower rating than evaluators that read pitches?\n",
    "\n",
    "**Question 6**:\n",
    "\n",
    "a. In terms of hypotheses, how can we phrase the hypothesis?\n",
    "\n",
    "b. Which t-test should we choose, one-tail or two-tail? And explian why.\n",
    "\n",
    "c. What are the independent variable and the dependent variable here?\n",
    "\n"
   ]
  },
  {
   "cell_type": "markdown",
   "metadata": {
    "id": "duti45rG22eS",
    "jp-MarkdownHeadingCollapsed": true
   },
   "source": [
    "# Q6a (answer in words):\n",
    "There are 3 groups of hypotheses:\n",
    "\n",
    "For Intellect group:\n",
    "H0 = There is no difference between overall ratings on the Intellect scale between the evaluators who listened to pitches and evaluators that read pitches.\n",
    "H1 = There is a significant difference between overall ratings on the Intellect scale between evaluators who listened to pitches and evaluators who read pitches.\n",
    "\n",
    "For Hire group:\n",
    "H0 = There is no difference between overall ratings on the Hire scale between the evaluators who listened to pitches and evaluators that read pitches.\n",
    "H1 = There is a significant difference between overall ratings on the Hire scale between evaluators who listened to pitches and evaluators who read pitches.\n",
    "\n",
    "For Impression group:\n",
    "H0 = There is no difference between overall ratings on the Impression scale between the evaluators who listened to pitches and evaluators that read pitches.\n",
    "H1 = There is a significant difference between overall ratings on the Impression scale between evaluators who listened to pitches and evaluators who read pitches.\n",
    "\n",
    "# we could phrase the null hypothesis for these tests as there is no significant difference between overall ratings on the {insert trait} scale between evaluators who listened to resume pitches and evaluators who read the resume pitches (H0:μ1=μ2). Alternatively, we could state it as there will be a significant difference between overall ratings on the {insert trait} scale between evaluators who listened to resume pitches and evaluators who read the resume pitches (H1:μ1≠μ2)."
   ]
  },
  {
   "cell_type": "markdown",
   "metadata": {
    "id": "EkoM_0js3fyS"
   },
   "source": [
    "# Q6b (answer in words):\n",
    "# Which t-test should we choose, one-tail or two-tail? Explian why.\n",
    "Use two-tail, because we do not have a specific expectation about the direction of the difference."
   ]
  },
  {
   "cell_type": "markdown",
   "metadata": {
    "id": "073zOlIsI5ws"
   },
   "source": [
    "# Q6c (answer in words):\n",
    "# What are the independent variable and the dependent variable here?\n",
    "The independnt variable is condition, and the dependent one is ratings"
   ]
  },
  {
   "cell_type": "markdown",
   "metadata": {
    "id": "4g-SpuDX23iL"
   },
   "source": [
    "\n",
    "To clarify, we are going to run three between-subjects t-tests in total; one for intellect ratings; one for hire ratings; one for impression ratings.\n",
    "\n",
    "**Instructions:**\n",
    "\n",
    "1. Descriptive analysis of the ratings.\n",
    "\n",
    "2. Test for normal distribution (Shapiro-Wilk test) and homogeneity of variances (Levene's test) for the intellect, impression, and hire ratings.\n",
    "\n",
    "3. Conduct independent t-tests comparing intellect, impression, and hire ratings between conditions (listened vs. read).\n",
    "\n",
    "Hints: three T-tests need to be performed.\n",
    "\n",
    "**Question 7**:\n",
    "\n",
    "a: Print the test results.\n",
    "\n",
    "b: Interpret the results of the above descriptive statistics, Shapiro-Wilk test, Levene's test, and independent t-tests. Explian why we use these tests and how we made our decisions based on the test result."
   ]
  },
  {
   "cell_type": "code",
   "execution_count": 54,
   "metadata": {
    "id": "QD3ZZRrAq4Gc"
   },
   "outputs": [
    {
     "name": "stdout",
     "output_type": "stream",
     "text": [
      "Result for descriptive statistics:\n",
      "\n",
      "Overall ratings on the intellect scale from the evaluators who listened to pitches:\n",
      "count    21.000000\n",
      "mean      5.634921\n",
      "std       1.608674\n",
      "min       2.333333\n",
      "25%       5.000000\n",
      "50%       5.666667\n",
      "75%       6.000000\n",
      "max       9.000000\n",
      "Name: Rating, dtype: float64\n",
      "Overall ratings on the intellect scale from the evaluators who read pitches:\n",
      "count    18.000000\n",
      "mean      3.648148\n",
      "std       1.911343\n",
      "min       0.666667\n",
      "25%       2.083333\n",
      "50%       3.666667\n",
      "75%       4.666667\n",
      "max       7.000000\n",
      "Name: Rating, dtype: float64\n",
      "******************************\n",
      "None\n",
      "Overall ratings on the hire scale from the evaluators who listened to pitches:\n",
      "count    21.000000\n",
      "mean      4.714286\n",
      "std       2.261479\n",
      "min       0.000000\n",
      "25%       4.000000\n",
      "50%       5.000000\n",
      "75%       7.000000\n",
      "max       8.000000\n",
      "Name: Rating, dtype: float64\n",
      "Overall ratings on the hire scale from the evaluators who read pitches:\n",
      "count    18.000000\n",
      "mean      2.888889\n",
      "std       2.054805\n",
      "min       0.000000\n",
      "25%       1.250000\n",
      "50%       2.000000\n",
      "75%       4.000000\n",
      "max       7.000000\n",
      "Name: Rating, dtype: float64\n",
      "******************************\n",
      "None\n",
      "Overall ratings on the impression scale from the evaluators who listened to pitches:\n",
      "count    21.000000\n",
      "mean      5.968254\n",
      "std       1.917477\n",
      "min       2.333333\n",
      "25%       4.666667\n",
      "50%       6.666667\n",
      "75%       7.333333\n",
      "max       8.666667\n",
      "Name: Rating, dtype: float64\n",
      "Overall ratings on the impression scale from the evaluators who read pitches:\n",
      "count    18.000000\n",
      "mean      4.074074\n",
      "std       2.233306\n",
      "min       0.333333\n",
      "25%       2.166667\n",
      "50%       4.500000\n",
      "75%       5.333333\n",
      "max       7.333333\n",
      "Name: Rating, dtype: float64\n",
      "******************************\n",
      "None\n",
      "****************************************************************************************************\n",
      "Result for Shapiro-Wilk test:\n",
      "\n",
      "for intellect:\n",
      " The distribution of readers is normal; p value = 0.4447984993457794\n",
      "The distribution of listeners is normal; p value = 0.17365092039108276 \n",
      "\n",
      "for hire:\n",
      " The distribution of readers is normal; p value = 0.06600592285394669\n",
      "The distribution of listeners is normal; p value = 0.20883114635944366 \n",
      "\n",
      "for impression:\n",
      " The distribution of readers is normal; p value = 0.40011918544769287\n",
      "The distribution of listeners is normal; p value = 0.21275967359542847 \n",
      "\n",
      "****************************************************************************************************\n",
      "Result for Levene's test:\n",
      "\n",
      "for intellect :\n",
      " p_value=  0.34946205893248505\n",
      "Levene's test is not significant - proceed \n",
      "\n",
      "for hire :\n",
      " p_value=  0.7458453933447955\n",
      "for hire:\n",
      " Levene's test is not significant - proceed \n",
      "\n",
      "for impression :\n",
      " p_value=  0.5358960150374064\n",
      "for impression:\n",
      " Levene's test is not significant - proceed \n",
      "\n",
      "****************************************************************************************************\n",
      "Result for Independent t-tests :\n",
      "\n",
      "for intellect:\n",
      " Difference is statistically significant - reject H0, confirm H1\n",
      "p value = 0.0011444414996286821\n",
      "for hire:\n",
      " Difference is statistically significant - reject H0, confirm H1\n",
      "p value = 0.012674511839824125\n",
      "for impression:\n",
      " Difference is statistically significant - reject H0, confirm H1\n",
      "p value = 0.007091060616710596\n"
     ]
    }
   ],
   "source": [
    "##Q7a (code):\n",
    "from scipy.stats import shapiro, levene, ttest_ind # used for calculating these tests.\n",
    "\n",
    "# Descriptive analysis of the ratings\n",
    "# get 3 groups within Category\n",
    "sub_df = ratings2.groupby('Category')\n",
    "df_intellect = sub_df.get_group('intellect')\n",
    "df_hire = sub_df.get_group('hire')\n",
    "df_impression = sub_df.get_group('impression')\n",
    "\n",
    "# get descriptive statistics of dataframe\n",
    "def get_descriptive_statistics(df):\n",
    "    sub_df = df.groupby('condition')\n",
    "    df_read = sub_df.get_group('read')\n",
    "    df_listened = sub_df.get_group('listened')\n",
    "    result_read = df_read['Rating'].describe()\n",
    "    result_listened = df_listened['Rating'].describe()\n",
    "    return  result_read,result_listened\n",
    "\n",
    "# print the result \n",
    "def print_condition(df,CategoryName):\n",
    "    print(f'Overall ratings on the {CategoryName} scale from the evaluators who listened to pitches:')\n",
    "    result_read, result_listened = get_descriptive_statistics(df)\n",
    "    print(result_listened)\n",
    "    print(f'Overall ratings on the {CategoryName} scale from the evaluators who read pitches:')\n",
    "    print(result_read)\n",
    "    print('*'*30)# a dividing line\n",
    "    \n",
    "# print each group's result\n",
    "print('Result for descriptive statistics:\\n')\n",
    "print(print_condition(df_intellect,'intellect'))\n",
    "print(print_condition(df_hire,'hire'))\n",
    "print(print_condition(df_impression,'impression'))\n",
    "print('*'*100) # a dividing line\n",
    "\n",
    "# Test for normal distribution (Shapiro-Wilk test)\n",
    "# calculate p-value of 'Rating' from each group's dataframe\n",
    "def normal_p_value(df,CategoryName):\n",
    "    score_shapiro, p_val_shapiro = stats.shapiro(df['Rating'])\n",
    "    return p_val_shapiro\n",
    "\n",
    "# print whether the distribution is normal\n",
    "def normal(p_value, CategoryName):\n",
    "    if p_value > 0.05:\n",
    "        output = f'The distribution of {CategoryName} is normal; p value = {p_value}'\n",
    "    else:\n",
    "        output = f'The distribution of {CategoryName} is not normal; p value = {p_value}'\n",
    "    return output\n",
    "\n",
    "# calculate p-value of 2 conditions within each group\n",
    "def normal_condition(df, CategoryName):\n",
    "    # get groups by condition\n",
    "    sub_df = df.groupby('condition')\n",
    "    df_read = sub_df.get_group('read')\n",
    "    df_listened = sub_df.get_group('listened') \n",
    "    # calculate p-value for each conditoin\n",
    "    read_p_value = normal_p_value(df_read, CategoryName)\n",
    "    listened_p_value = normal_p_value(df_listened, CategoryName)\n",
    "    # print the result\n",
    "    read = normal(read_p_value,'readers')\n",
    "    listened =normal(listened_p_value,'listeners')\n",
    "    return read + '\\n'+ listened\n",
    "\n",
    "# print result\n",
    "print('Result for Shapiro-Wilk test:\\n')\n",
    "print('for intellect:\\n',normal_condition(df_intellect, 'intellect'),'\\n')\n",
    "print('for hire:\\n',normal_condition(df_hire, 'hire'),'\\n')\n",
    "print('for impression:\\n',normal_condition(df_impression, 'impression'),'\\n')\n",
    "print('*'*100) # a dividing line\n",
    "\n",
    "# Test for homogeneity of variances (Levene's test)\n",
    "def Homogeneity(df, CategoryName):\n",
    "    sub_df = df.groupby('condition')\n",
    "    df_read = sub_df.get_group('read')\n",
    "    df_listened = sub_df.get_group('listened') \n",
    "    score, p_val = stats.levene(df_read['Rating'], df_listened['Rating'])\n",
    "    if p_val < 0.05:\n",
    "        output = \"Levene's test is significant - use Welch's test\"\n",
    "    else:\n",
    "        output = \"Levene's test is not significant - proceed\"\n",
    "    print('for', CategoryName, ':\\n','p_value= ', p_val)\n",
    "    return output\n",
    "\n",
    "# print result\n",
    "print(\"Result for Levene's test:\\n\")\n",
    "print(Homogeneity(df_intellect,'intellect'),'\\n')\n",
    "print('for hire:\\n',Homogeneity(df_hire,'hire'),'\\n')\n",
    "print('for impression:\\n',Homogeneity(df_impression,'impression'),'\\n')\n",
    "print('*'*100) # a dividing line\n",
    "\n",
    "# Independent t-tests\n",
    "def ttest(df,CategoryName):\n",
    "    sub_df = df.groupby('condition')\n",
    "    df_read = sub_df.get_group('read')\n",
    "    df_listened = sub_df.get_group('listened') \n",
    "    ttest_score, p_val = stats.ttest_ind(df_listened['Rating'], df_read['Rating'])\n",
    "    if p_val < 0.05:\n",
    "        output = f'Difference is statistically significant - reject H0, confirm H1\\np value = {p_val}'\n",
    "    else:\n",
    "        output = f'Difference is NOT statistically significant - reject H1, confirm H0\\np value = {p_val}'\n",
    "    return output\n",
    "\n",
    "# print result   \n",
    "print('Result for Independent t-tests :\\n')\n",
    "print('for intellect:\\n',ttest(df_intellect,'intellect'))\n",
    "print('for hire:\\n',ttest(df_hire,'hire'))\n",
    "print('for impression:\\n',ttest(df_impression,'impression'))\n",
    "\n",
    "#ratings_desc, shapiro_results, levene_results, ttest_results"
   ]
  },
  {
   "cell_type": "markdown",
   "metadata": {
    "id": "aifm_T8UQwYm"
   },
   "source": [
    "# Q7b (answer in words):\n",
    "## Descriptive statistics:\n",
    "- On the Intellect scale, listeners exhibit a higher mean and median in ratings compared to readers, with both groups showing a similar range of approximately 7. \n",
    "- On the Hire scale, listeners demonstrate a higher mean and median, as well as a wider range of ratings than readers. \n",
    "- On the Impression scale, listeners have a higher mean and median in ratings than readers, but they exhibit a narrower range of ratings.\n",
    "\n",
    "## Shapiro-Wilk test:\n",
    "Since the p-values for Levene's test in all scales are greater than 0.05, we do not have sufficient evidence to reject the null hypothesis. Therefore, the distribution of readers and listeners is normal on intellect, hire and impression scales.\n",
    "\n",
    "## Levene's test:\n",
    "Since the p-values for Levene's test in all scales are greater than 0.05, we do not have sufficient evidence to reject the null hypothesis. Therefore, we assume that the variances across the groups are equal.\n",
    "\n",
    "## Independent t-tests:\n",
    "Since the p-values for Independent t-tests in all scales are smaller than 0.05, we have sufficient evidence to reject the null hypothesis. Therefore, there is a significant difference in overall ratings between evaluators who listened to pitches and evaluators who read pitches on intellect, hire and impression scales.\n"
   ]
  }
 ],
 "metadata": {
  "colab": {
   "provenance": []
  },
  "kernelspec": {
   "display_name": "Python 3 (ipykernel)",
   "language": "python",
   "name": "python3"
  },
  "language_info": {
   "codemirror_mode": {
    "name": "ipython",
    "version": 3
   },
   "file_extension": ".py",
   "mimetype": "text/x-python",
   "name": "python",
   "nbconvert_exporter": "python",
   "pygments_lexer": "ipython3",
   "version": "3.9.18"
  }
 },
 "nbformat": 4,
 "nbformat_minor": 4
}
